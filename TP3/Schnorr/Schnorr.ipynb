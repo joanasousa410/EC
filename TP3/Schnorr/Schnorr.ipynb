{
 "cells": [
  {
   "cell_type": "markdown",
   "metadata": {},
   "source": [
    "## Schnorr"
   ]
  },
  {
   "cell_type": "code",
   "execution_count": null,
   "metadata": {},
   "outputs": [],
   "source": [
    "from sage.all import *"
   ]
  },
  {
   "cell_type": "code",
   "execution_count": null,
   "metadata": {},
   "outputs": [],
   "source": [
    "n = 100\n",
    "bits = 64\n",
    "c = 3\n",
    "N = random_prime(2^bits-1,lbound=2^(bits-1)) * random_prime(2^(bits-1)-1,lbound=2^(bits-2))\n",
    "L = N^c\n",
    "Q = Primes()[:n]"
   ]
  },
  {
   "cell_type": "code",
   "execution_count": null,
   "metadata": {},
   "outputs": [],
   "source": [
    "lnQ   = lambda n : QQ(log(RDF(n),2))\n",
    "sqlnQ = lambda n : QQ(sqrt(log(RR(n),2)))\n",
    "pZ    = lambda z : prod([q^e for (e,q) in zip(z,Q)])\n",
    "\n",
    "vq    = [lnQ(q) for q in Q]\n",
    "svq   = [sqlnQ(q) for q in Q]"
   ]
  },
  {
   "cell_type": "code",
   "execution_count": null,
   "metadata": {},
   "outputs": [],
   "source": [
    "mQ = matrix(QQ,n,1,vq)\n",
    "mZ = matrix(QQ,1,n,[0]*n)\n",
    "mz = matrix(QQ,n,1,[0]*n)\n",
    "mI = identity_matrix(QQ,n)\n",
    "mS = diagonal_matrix(QQ,n,svq)\n",
    "\n",
    "mt = matrix(QQ,1,1,[-lnQ(N)])\n",
    "mT = matrix(QQ,1,n,[0]*n).augment(mt)\n",
    "\n",
    "um = matrix(QQ,1,1,[1])"
   ]
  },
  {
   "cell_type": "code",
   "execution_count": null,
   "metadata": {},
   "outputs": [],
   "source": [
    "#G = block_matrix(QQ,2,2,[mI,L*mQ,mZ,L*mt])"
   ]
  },
  {
   "cell_type": "code",
   "execution_count": null,
   "metadata": {},
   "outputs": [],
   "source": [
    "#Gr = G.LLL()"
   ]
  },
  {
   "cell_type": "code",
   "execution_count": null,
   "metadata": {},
   "outputs": [],
   "source": [
    "#for i in range(n):\n",
    "#    l = Gr[i][:n]; s = round(sqrt(sum([a^2 for a in l]))); e = RDF(Gr[i][-1]/L)\n",
    "#    print(l,s,e)"
   ]
  },
  {
   "cell_type": "code",
   "execution_count": null,
   "metadata": {},
   "outputs": [],
   "source": [
    "#z = Gr[0][:n]\n",
    "#e = 2^(RDF(Gr[0][-1]/L))\n",
    "#print(z,e)"
   ]
  },
  {
   "cell_type": "code",
   "execution_count": null,
   "metadata": {},
   "outputs": [],
   "source": [
    "def u_v(z):\n",
    "    u = [0]*n ; v = [0]*n\n",
    "    for k in range(n):\n",
    "        if z[k] >= 0:\n",
    "            u[k] = z[k]\n",
    "        else:\n",
    "            v[k] = -z[k]\n",
    "    return (u,v)\n",
    "\n",
    "#(uz,vz) = u_v(z)\n",
    "#u = pZ(uz)\n",
    "#v = pZ(vz)\n",
    "#err = abs(u-N*v)"
   ]
  },
  {
   "cell_type": "code",
   "execution_count": null,
   "metadata": {},
   "outputs": [],
   "source": [
    "#G_ = block_matrix(QQ,1,2,[mS , mQ])\n",
    "G_ = block_matrix(QQ,1,2,[mI , L*mQ])\n",
    "GG = block_matrix(QQ,2,2,[G_,mz,L*mT,L*um])"
   ]
  },
  {
   "cell_type": "code",
   "execution_count": null,
   "metadata": {},
   "outputs": [],
   "source": [
    "GG.parent()"
   ]
  },
  {
   "cell_type": "code",
   "execution_count": null,
   "metadata": {},
   "outputs": [],
   "source": [
    "GGr = GG.LLL()"
   ]
  },
  {
   "cell_type": "code",
   "execution_count": null,
   "metadata": {},
   "outputs": [],
   "source": [
    "last_line = GGr[n]"
   ]
  },
  {
   "cell_type": "code",
   "execution_count": null,
   "metadata": {},
   "outputs": [],
   "source": [
    "u = last_line[-1]/L\n",
    "e = RDF(last_line[-2]/L)\n",
    "z = last_line[:n]\n",
    "print(\"erro =\" , e, \"\\nz = \", z) if u == 1 else \"Fail\""
   ]
  },
  {
   "cell_type": "code",
   "execution_count": null,
   "metadata": {},
   "outputs": [],
   "source": [
    "(uz,vz) = u_v(z)\n",
    "u = pZ(uz)\n",
    "v = pZ(vz)\n",
    "err = abs(u-N*v)"
   ]
  },
  {
   "cell_type": "code",
   "execution_count": null,
   "metadata": {},
   "outputs": [],
   "source": [
    "print(RDF(u/(N*v)))"
   ]
  },
  {
   "cell_type": "code",
   "execution_count": null,
   "metadata": {},
   "outputs": [],
   "source": [
    "print(err)"
   ]
  },
  {
   "cell_type": "markdown",
   "metadata": {},
   "source": [
    "<hr>"
   ]
  },
  {
   "cell_type": "markdown",
   "metadata": {},
   "source": [
    "Implementação: https://github.com/lducas/SchnorrGate"
   ]
  },
  {
   "cell_type": "code",
   "execution_count": null,
   "metadata": {},
   "outputs": [],
   "source": [
    "from sage.all import *\n",
    "\n",
    "from fpylll import IntegerMatrix, SVP\n",
    "import sys\n",
    "\n",
    "def svp(B):\n",
    "\tA = IntegerMatrix.from_matrix(B)\n",
    "\treturn SVP.shortest_vector(A)\n",
    "\n",
    "def first_primes(n):\n",
    "\tp = 1\n",
    "\tP = []\n",
    "\twhile len(P) < n:\n",
    "\t\tp = next_prime(p)\n",
    "\t\tP += [p]\n",
    "\treturn P\n",
    "\n",
    "def is_smooth(x, P):\n",
    "\ty = x\n",
    "\tfor p in P:\n",
    "\t\twhile p.divides(y):\n",
    "\t\t\ty /= p\n",
    "\treturn abs(y) == 1\n",
    "\n",
    "\n",
    "\n",
    "# Test if a factoring relation was indeed found.\n",
    "def test_Schnorr(N, n, prec=1000):\n",
    "\tP = first_primes(n)\n",
    "\tf = list(range(1, n+1))\n",
    "\tshuffle(f)\n",
    "\n",
    "\t# Scale up and round\n",
    "\tdef sr(x):\n",
    "\t\treturn round(x * 2**prec)\n",
    "\n",
    "\tdiag = [sr(N*f[i]) for i in range(n)] + [sr(N*ln(N))]\n",
    "\tB = diagonal_matrix(diag, sparse=False)\n",
    "\tfor i in range(n):\n",
    "\t\tB[i, n] = sr(N*ln(P[i]))\n",
    "\n",
    "\n",
    "\tb = svp(B)\n",
    "\te = [b[i] / sr(N*f[i]) for i in range(n)]\n",
    "\n",
    "\tu = 1\n",
    "\tv = 1\n",
    "\tfor i in range(n):\n",
    "\t\tassert e[i] in ZZ\n",
    "\t\tif e[i] > 0:\n",
    "\t\t\tu *= P[i]**e[i]\n",
    "\t\tif e[i] < 0:\n",
    "\t\t\tv *= P[i]**(-e[i])\n",
    "\n",
    "\treturn is_smooth(u - v*N, P) \n",
    "\n",
    "try:\n",
    "\tbits = int(sys.argv[1])\n",
    "except:\n",
    "\tbits = 400\n",
    "\n",
    "try:\n",
    "\tn = int(sys.argv[2])\n",
    "except:\n",
    "\tn = 47\n",
    "\n",
    "try:\n",
    "\ttrials = int(sys.argv[3])\n",
    "except:\n",
    "\ttrials = 100\n",
    "\n",
    "\n",
    "print(\"Testing Schnorr's relation finding algorithm with n=%d on RSA-moduli of %d bits, %d trials\"%(n, bits, trials))\n",
    "\n",
    "successes = 0\n",
    "for i in range(trials):\n",
    "\tp = random_prime(2**(bits/2), false, 2**(bits/2-1))\n",
    "\tq = random_prime(2**(bits/2), false, 2**(bits/2-1))\n",
    "\tN = p*q\n",
    "\tsuccess = test_Schnorr(N, n)\n",
    "\tsuccesses += success\n",
    "\tprint(success, end=\"\\t\")\n",
    "\tsys.stdout.flush()\n",
    "\n",
    "print(\"\\n%d Factoring Relation found out of %d trials\"%(successes, trials))"
   ]
  }
 ],
 "metadata": {
  "interpreter": {
   "hash": "bed19c560d7379436de8ac04867447dd2f5a10ecc4caf1d0c73ab15a7b0fe421"
  },
  "kernelspec": {
   "display_name": "Python 3.8.12 ('sage')",
   "language": "python",
   "name": "python3"
  },
  "language_info": {
   "codemirror_mode": {
    "name": "ipython",
    "version": 3
   },
   "file_extension": ".py",
   "mimetype": "text/x-python",
   "name": "python",
   "nbconvert_exporter": "python",
   "pygments_lexer": "ipython3",
   "version": "3.8.12"
  }
 },
 "nbformat": 4,
 "nbformat_minor": 4
}
