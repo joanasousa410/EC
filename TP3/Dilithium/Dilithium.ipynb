{
 "cells": [
  {
   "cell_type": "markdown",
   "metadata": {},
   "source": [
    "# Trabalho Prático 3\n",
    "#### Grupo 17, constituído por:\n",
    "#### &emsp; -- Joana Castro e Sousa, PG47282\n",
    "#### &emsp; -- Tiago Taveira Gomes, PG47702\n",
    "#### &emsp; -- João Carlos Pereira Rodrigues, PG46534"
   ]
  },
  {
   "cell_type": "markdown",
   "metadata": {},
   "source": [
    "<hr>"
   ]
  },
  {
   "cell_type": "markdown",
   "metadata": {},
   "source": [
    "# CRYSTALS-Dilithium"
   ]
  },
  {
   "cell_type": "markdown",
   "metadata": {},
   "source": [
    ">Dilithium is a digital signature scheme that is strongly secure under chosen message attacks based on the hardness of lattice problems over module lattices. The security notion means that an adversary having access to a signing oracle cannot produce a signature of a message whose signature he hasn't yet seen, nor produce a different signature of a message that he already saw signed.\n",
    "\n",
    ">https://pq-crystals.org/dilithium/"
   ]
  },
  {
   "cell_type": "markdown",
   "metadata": {},
   "source": [
    "Este algoritmo, Dilithium, foi desenhado com o objetivo de satisfazer os seguintes critérios:\n",
    "\n",
    "<ul>\n",
    "<li><i>Simple to implement securely</i>\n",
    "</li>\n",
    "\n",
    "<li><i>Be conservative with parameters</i>\n",
    "</li>\n",
    "\n",
    "<li><i>Minimize the size of public key + signature</i>\n",
    "</li>\n",
    "\n",
    "<li><i>Be modular – easy to vary security</i>\n",
    "</li>\n",
    "</ul>\n",
    "\n",
    "Deste modo, toda a nossa implementação procura seguir dois dos documentos de CRYSTALS-Dilithium:\n",
    "<br>\n",
    "https://pq-crystals.org/dilithium/data/dilithium-specification-round3-20210208.pdf\n",
    "<br>\n",
    "https://eprint.iacr.org/2017/633.pdf"
   ]
  },
  {
   "cell_type": "markdown",
   "metadata": {},
   "source": [
    "<hr>"
   ]
  },
  {
   "cell_type": "code",
   "execution_count": 1,
   "metadata": {},
   "outputs": [],
   "source": [
    "# imports\n",
    "from sage.all import *\n",
    "from cryptography.hazmat.primitives import hashes"
   ]
  },
  {
   "cell_type": "markdown",
   "metadata": {},
   "source": [
    "<hr>"
   ]
  },
  {
   "cell_type": "markdown",
   "metadata": {},
   "source": [
    "Este algoritmo assenta em <ins>três</ins> passos principais:\n",
    "\n",
    "<ul>\n",
    "<li>Geração das chaves (pública e privada) na instanciação do algoritmo.\n",
    "</li>\n",
    "\n",
    "<li>Função <b><ins>sign()</ins></b>: tratamento para efetivamente efetuar uma assinatura.\n",
    "</li>\n",
    "\n",
    "<li>Função <b><ins>verify()</ins></b>: tratamento para efetivamente verificar uma assinatura.\n",
    "</li>\n",
    "</ul>"
   ]
  },
  {
   "cell_type": "markdown",
   "metadata": {},
   "source": [
    "Além disso, este algoritmo tem como um dos objetivos ser modular e parameterizável, pelo que, então, implementou-se vários modos de instânciação, com os diferentes níveis de segurança nos parâmetros propostos.\n",
    " \n",
    "As seguintes classes são passadas como argumento ao construtor do Dilithium."
   ]
  },
  {
   "cell_type": "code",
   "execution_count": 2,
   "metadata": {},
   "outputs": [],
   "source": [
    "class Weak:\n",
    "    k = 3\n",
    "    l = 2\n",
    "    eta = 7\n",
    "    beta = 375\n",
    "    omega = 64\n",
    "\n",
    "class Medium:\n",
    "    k = 4\n",
    "    l = 3\n",
    "    eta = 6\n",
    "    beta = 325\n",
    "    omega = 80\n",
    "\n",
    "class Recommended:\n",
    "    k = 5\n",
    "    l = 4\n",
    "    eta = 5\n",
    "    beta = 275\n",
    "    omega = 96\n",
    "\n",
    "class VeryHigh:\n",
    "    k = 6\n",
    "    l = 5\n",
    "    eta = 3\n",
    "    beta = 175\n",
    "    omega = 120"
   ]
  },
  {
   "cell_type": "markdown",
   "metadata": {},
   "source": [
    "<hr>"
   ]
  },
  {
   "cell_type": "markdown",
   "metadata": {},
   "source": [
    "# Implementação\n",
    "\n",
    "#### <ins>Geração das chaves:</ins>\n",
    "O algoritmo de geração de chaves gera uma <b><ins>matriz A</ins></b> de dimensões <b><ins>k x l</ins></b>, e amostra 2 vetores <b><ins>s1</ins></b> e <b><ins>s2</ins></b>. Também, gera um último parâmetro público <b><ins>t = A*s1 + s2</ins></b>.\n",
    "\n",
    "Assim, para amostrar a <b><ins>matriz A</ins></b> e os vetores de polinómios <b><ins>s1</ins></b> e <b><ins>s2</ins></b>, bastou-nos implementar dois métodos auxiliares, que seguem a especificação nos documentos (nomeadamente, <b><ins>expandA</ins></b> e <b><ins>sample</ins></b>).\n",
    "\n",
    "Uma vez geradas todas estas variáveis, finalmente temos as chaves: <b><ins>Public Key: (A, t)</ins></b> e <b><ins>Private Key: (A, t, s1, s2)</ins></b>.\n",
    "\n",
    "\n",
    "#### <ins>Assinatura:</ins>\n",
    "O algoritmo de assinatura necessita de seguir uma série de passos:\n",
    "<ul>\n",
    "<li>É amostrado <b><ins>y</ins></b> com dimenção igual a <b><ins>l×1</ins></b>. De seguida, calcula-se os <b><ins>high_bits</ins></b> de <b><ins>A\\y</ins></b>  para <b><ins>w1*</ins></b>\n",
    "</li>\n",
    "\n",
    "<li>Obter o hash <b><ins>H()</ins></b>  a partir de <b><ins>w1</ins></b> e da <b><ins>mensagem</ins></b>\n",
    "</li>\n",
    "\n",
    "<li>Calcular <b><ins>z = y + c*s1</b></ins>\n",
    "</li>\n",
    "\n",
    "<li>Finalmente, é necessário verificar a condição de assinatura. Caso não seja satisfeita, efetuar novamente o processo.\n",
    "</li>\n",
    "\n",
    "</ul>\n",
    "\n",
    "#### <ins>Verificação:</ins>\n",
    "Para se verificar a assinatura a partir da chave pública, basta seguir os seguintes passos:\n",
    "<ul>\n",
    "<li>Calcula-se os <b><ins>high_bits</ins></b> de <b><ins>A * y - c * t</ins></b> para <b><ins>w1</ins></b>\n",
    "</li>\n",
    "\n",
    "<li>De seguida, basta confirmar se a condição da assinatura se verifica\n",
    "</li>\n",
    "\n",
    "</ul>"
   ]
  },
  {
   "cell_type": "markdown",
   "metadata": {},
   "source": [
    "Todos estes algoritmos implicam uma série de métodos auxiliares, tal como estão especificados nos documentos oficiais. Deste modo, foram também implementados e comentados de seguida."
   ]
  },
  {
   "cell_type": "code",
   "execution_count": 3,
   "metadata": {},
   "outputs": [],
   "source": [
    "class Dilithium:\n",
    "    def __init__(self, params=Recommended):\n",
    "        # Define Parameters\n",
    "        self.n = 256\n",
    "        self.q = 8380417\n",
    "        self.d = 14\n",
    "        self.weight = 60\n",
    "        self.gamma1 = 523776 #(self.q-1) / 16\n",
    "        self.gamma2 = 261888 #self.gamma1 / 2\n",
    "        self.k = params.k\n",
    "        self.l = params.l\n",
    "        self.eta = params.eta\n",
    "        self.beta = params.beta\n",
    "        self.omega = params.omega\n",
    "\n",
    "        # Define Fields\n",
    "        Zq.<x> = GF(self.q)[]\n",
    "        self.Rq = Zq.quotient(x^self.n+1)\n",
    "\n",
    "        # Generate Keys\n",
    "        self.A = self.expandA()\n",
    "        self.s1 = self.sample(self.eta, self.l)\n",
    "        self.s2 = self.sample(self.eta, self.k)\n",
    "        self.t = self.A * self.s1 + self.s2\n",
    "        # Public Key : A, t\n",
    "        # Private Key : s1, s2\n",
    "\n",
    "    # função de assinatura de uma mensagem\n",
    "    # m: mensagem em bytes\n",
    "    def sign(self, m):\n",
    "        # inicialização da variável\n",
    "        z = None\n",
    "        # se nenhum 'z' foi gerado\n",
    "        while z == None:\n",
    "            # começar o processo de gerar 'z':\n",
    "            y = self.sample(self.gamma1-1, self.l)\n",
    "            # Ay é reutilizado por isso precalcula-se\n",
    "            Ay = self.A * y\n",
    "            # high bits\n",
    "            w1 = self.high_bits(self.A * y, 2 * self.gamma2)\n",
    "            # calcular o hash\n",
    "            c = self.H(b\"\".join([bytes([ int(i) for i in e ]) for e in w1]) + m)\n",
    "            # calcular o polinómio\n",
    "            c_poly = self.Rq(c)\n",
    "\n",
    "            # calcular o 'z'\n",
    "            z = y + c_poly * self.s1\n",
    "\n",
    "            # verificar as condições\n",
    "            if (self.sup_norm(z) >= self.gamma1 - self.beta) and (self.sup_norm([self.low_bits(Ay-c_poly*self.s2, 2*self.gamma2)]) >= self.gamma2 - self.beta):\n",
    "                # é necessário calcular novo 'z'\n",
    "                z = None\n",
    "    \n",
    "        return (z,c)\n",
    "\n",
    "    # função de verificação de uma mensagem\n",
    "    # m: mensagem em bytes\n",
    "    # sig: assinatura\n",
    "    def verify(self, m, sig):\n",
    "        # assinatura\n",
    "        (z,c) = sig\n",
    "        # calcular os high bits\n",
    "        w1_ = self.high_bits(self.A*z - self.Rq(c)*self.t, 2*self.gamma2)\n",
    "        # calcular condições de verificação\n",
    "        torf1 = (self.sup_norm(z) < self.gamma1-self.beta)\n",
    "        torf2 = (c == self.H(b\"\".join([bytes([ int(i) for i in e ]) for e in w1_]) + m))\n",
    "\n",
    "        # torf1 && torf2\n",
    "        return torf1 and torf2\n",
    "\n",
    "    ################################# Funções Auxiliares #################################\n",
    "\n",
    "    # Mapear uma seed ∈ {0, 1}^256 numa matriz A ∈ Rq^k×l\n",
    "    def expandA(self):\n",
    "        # Na submissão original assume-se ρ como uma seed uniforme para amostrar aleatoriamente.\n",
    "        # Neste caso considera-se que `random_element` tem o valor equivalente da seed internamente.\n",
    "        mat = [ self.Rq.random_element() for _ in range(self.k*self.l) ]\n",
    "        return matrix(self.Rq, self.k, self.l, mat)\n",
    "\n",
    "    # gera um vetor aleatório onde cada coeficiente desse vetor é um elemento pertencente a Rq\n",
    "    def sample(self, coef_max, size):\n",
    "        def rand_poly():\n",
    "            return self.Rq([randint(0,coef_max) for _ in range(self.n)])\n",
    "\n",
    "        vector = [ rand_poly() for _ in range(size) ]\n",
    "\n",
    "        # Vectores sao representados sob a forma de matrizes para permitir as operações com a matriz A\n",
    "        return matrix(self.Rq,size,1,vector)\n",
    "\n",
    "    # recupera os bits de ordem superior\n",
    "    def high_bits(self, r, alfa):\n",
    "        r1, _ = self.decompose(r,alfa)\n",
    "        return r1\n",
    "\n",
    "    # recupera os bits de ordem inferior\n",
    "    def low_bits(self, r, alfa):\n",
    "        _, r0 = self.decompose(r,alfa)\n",
    "        return r0\n",
    "\n",
    "    # extrai bits de higher-order e lower-order de elementos pertencentes a Zq\n",
    "    def decompose(self, r, alfa):\n",
    "        # Nota: Na submissão original é assumido que as operações no decompose são aplicadas a cada coeficiente.\n",
    "        # r1 r0\n",
    "        r0_vector = []\n",
    "        r1_vector = []\n",
    "        torf = True\n",
    "        for p in r:\n",
    "            r0_poly = []\n",
    "            r1_poly = []\n",
    "            for c in p[0]:\n",
    "                c = int(mod(c,int(self.q)))\n",
    "                r0 = int(mod(c,int(alfa)))\n",
    "                if c - r0 == int(self.q) - int(1):\n",
    "                    r1 = 0\n",
    "                    r0 = r0 - 1\n",
    "                else:\n",
    "                    r1 = (c - r0) / int(alfa)\n",
    "                r0_poly.append(r0)\n",
    "                r1_poly.append(r1)\n",
    "            if torf:\n",
    "                torf = False\n",
    "            r0_vector.append(self.Rq(r0_poly))\n",
    "            r1_vector.append(self.Rq(r1_poly))\n",
    "        # não se realiza mais operações sobre matrizes, então retornar vectores\n",
    "        return (r1_vector, r0_vector)\n",
    "\n",
    "    # função de hash que recorre a SHAKE256 de modo a construir um array com 256 elementos de -1 a 0\n",
    "    def H(self, obj):\n",
    "        sha3 = hashes.Hash(hashes.SHAKE256(int(60)))\n",
    "        sha3.update(obj)\n",
    "        res = [ (-1) ** (b % 2) for b in sha3.finalize() ]\n",
    "        return res + [0]*196\n",
    "\n",
    "    # normal uniforme\n",
    "    # https://en.wikipedia.org/wiki/Uniform_norm\n",
    "    def sup_norm(self, v):\n",
    "        return max([ max(p[0]) for p in v])"
   ]
  },
  {
   "cell_type": "markdown",
   "metadata": {},
   "source": [
    "<hr>"
   ]
  },
  {
   "cell_type": "markdown",
   "metadata": {},
   "source": [
    "# Testes\n",
    "\n",
    "Nesta secção iremos efetuar três diferentes testes para certificar que as assinaturas estão a ser bem geradas."
   ]
  },
  {
   "cell_type": "markdown",
   "metadata": {},
   "source": [
    "Para tal, instanciou-se duas classes diferentes, com os mesmmos parâmetros."
   ]
  },
  {
   "cell_type": "code",
   "execution_count": null,
   "metadata": {},
   "outputs": [],
   "source": [
    "# instanciar a classe (Parâmetros = Recommended)\n",
    "dilithium = Dilithium(params=Recommended)\n",
    "dilithium_other = Dilithium(params=Recommended)"
   ]
  },
  {
   "cell_type": "markdown",
   "metadata": {},
   "source": [
    "#### Teste 1: Neste cenário, verifica-se se o esquema valida corretamente uma assinatura."
   ]
  },
  {
   "cell_type": "code",
   "execution_count": 4,
   "metadata": {},
   "outputs": [
    {
     "name": "stdout",
     "output_type": "stream",
     "text": [
      "Test 1 (Must be True): True\n"
     ]
    }
   ],
   "source": [
    "# Assinar uma mensagem\n",
    "sig = dilithium.sign(b\"Grupo 17, EC 2021/2022\")\n",
    "# Verificar a assinatura\n",
    "print(\"Test 1 (Must be True):\",dilithium.verify(b\"Grupo 17, EC 2021/2022\", sig))"
   ]
  },
  {
   "cell_type": "markdown",
   "metadata": {},
   "source": [
    "#### Teste 2: Neste cenário, verifica-se se o esquema reconhece quando os dados assinados são diferentes."
   ]
  },
  {
   "cell_type": "code",
   "execution_count": 5,
   "metadata": {},
   "outputs": [
    {
     "name": "stdout",
     "output_type": "stream",
     "text": [
      "Test 2 (Must be False): False\n"
     ]
    }
   ],
   "source": [
    "# Assinar uma mensagem\n",
    "sig = dilithium.sign(b\"Grupo 10, EC 2021/2022\")\n",
    "# Verificar a assinatura\n",
    "print(\"Test 2 (Must be False):\",dilithium.verify(b\"To be or not to be\", sig))"
   ]
  },
  {
   "cell_type": "markdown",
   "metadata": {},
   "source": [
    "#### Teste 3: Neste cenário, verifica-se se entre instâncias diferentes não existem relações."
   ]
  },
  {
   "cell_type": "code",
   "execution_count": 6,
   "metadata": {},
   "outputs": [
    {
     "name": "stdout",
     "output_type": "stream",
     "text": [
      "Test 3 (Must be False): False\n"
     ]
    }
   ],
   "source": [
    "# Assinar uma mensagem\n",
    "sig = dilithium.sign(b\"Grupo 10, EC 2021/2022\")\n",
    "# Verificar a assinatura\n",
    "print(\"Test 3 (Must be False):\",dilithium_other.verify(b\"Grupo 10, EC 2021/2022\",sig))"
   ]
  }
 ],
 "metadata": {
  "interpreter": {
   "hash": "bed19c560d7379436de8ac04867447dd2f5a10ecc4caf1d0c73ab15a7b0fe421"
  },
  "kernelspec": {
   "display_name": "Python 3 (ipykernel)",
   "language": "python",
   "name": "python3"
  },
  "language_info": {
   "codemirror_mode": {
    "name": "ipython",
    "version": 3
   },
   "file_extension": ".py",
   "mimetype": "text/x-python",
   "name": "python",
   "nbconvert_exporter": "python",
   "pygments_lexer": "ipython3",
   "version": "3.8.12"
  }
 },
 "nbformat": 4,
 "nbformat_minor": 2
}
