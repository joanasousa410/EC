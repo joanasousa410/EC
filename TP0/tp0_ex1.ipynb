{
 "cells": [
  {
   "cell_type": "markdown",
   "metadata": {},
   "source": [
    "# Trabalho Prático 0\n",
    "#### Grupo 17, constituído por:\n",
    "#### &emsp; -- Joana Castro e Sousa, PG47282\n",
    "#### &emsp; -- Tiago Taveira Gomes, PG47702"
   ]
  },
  {
   "cell_type": "markdown",
   "metadata": {},
   "source": [
    "## <ins>Pergunta 1</ins>: \n",
    "### Criar uma comunicação privada assíncrona entre um agente Emitter e um agente Receiver que cubra os seguintes aspectos:\n",
    "##### a) Autenticação do criptograma e dos metadados (associated data). Usar uma cifra simétrica  num modo HMAC  que seja seguro contra ataques aos “nounces” .\n",
    "##### b) Os “nounces” são gerados por um gerador pseudo aleatório (PRG) construído por um função de hash em modo XOF.\n",
    "##### c) O par de chaves cipher_key, mac_key , para cifra e autenticação, é acordado entre agentes usando o protocolo DH com autenticação dos agentes usando assinaturas DSA."
   ]
  },
  {
   "cell_type": "code",
   "execution_count": 1,
   "metadata": {},
   "outputs": [],
   "source": [
    "#imports\n",
    "import os\n",
    "import time\n",
    "\n",
    "from cryptography.exceptions import *\n",
    "from cryptography.hazmat.backends import default_backend\n",
    "from cryptography.hazmat.primitives.asymmetric import dh,dsa\n",
    "from cryptography.hazmat.primitives.kdf.pbkdf2 import PBKDF2HMAC\n",
    "from cryptography.hazmat.primitives import hashes, hmac, serialization\n",
    "from cryptography.hazmat.primitives.ciphers import Cipher, algorithms, modes\n",
    "\n",
    "import multiprocessing\n",
    "from multiprocessing import Pipe, Process\n",
    "\n",
    "# utilizar uma comunicação por pipes para simular uma comunicação privada assíncrona entre um agente Emitter e um agente Receiver\n",
    "class PipeCommunication:\n",
    "    def __init__(self,left, right, timeout=None):\n",
    "        '''\n",
    "            Classe responsável por ligar 2 entidades através de um Pipe para poderem comunicar entre si.\n",
    "            A cada entidade será atribuída uma extremidado do pipe.\n",
    "            Será criado um processo para cada entidade onde o processo terá como alvo a entidade respetiva e \n",
    "                passar-lhe-á como argumento a extremidade da conexão que lhe é correspondente. \n",
    "        '''\n",
    "        left_end, right_end = Pipe()\n",
    "        self.timeout = timeout\n",
    "        self.left_process = Process(target=left, args=(left_end,))\n",
    "        self.right_process = Process(target=right, args=(right_end,))\n",
    "    def run(self):\n",
    "        self.left_process.start()\n",
    "        self.right_process.start()\n",
    "        self.left_process.join(self.timeout)\n",
    "        self.right_process.join(self.timeout)"
   ]
  },
  {
   "cell_type": "markdown",
   "metadata": {},
   "source": [
    "#### Implementou-se o protocolo de acordo de chaves Diffie-Hellman com verificação da chave e autenticação mútua dos agente através do esquema de assinaturas Digital Signature Algorithm. O protocolo Diffie-Hellman contém 3 algoritmos:\n",
    "##### &emsp;- A criação dos parâmetros\n",
    "##### &emsp;- O agente Emitter gera a chave privada, a sua respetiva chave pública e envia ao Receiver\n",
    "##### &emsp;- O agente Receiver gera a chave privada, a sua respetiva chave pública e envia ao Emitter\n",
    "##### &emsp;- De seguida, ambos os agentes geram a chave partilhada.\n",
    "\n",
    "#### O Processo de troca de chaves públicas para gerar a chave partilhada é executada tal como o protocolo está definido:\n",
    "##### &emsp;1 - Emitter envia a Receiver: g^x (a sua chave pública)\n",
    "##### &emsp;2 - Receiver envia a Emitter: g^y || SIG(g^x,g^y) (a sua chave pública || as duas chaves públicas assinadas)\n",
    "##### &emsp;3 - Emitter envia a Receiver: SIG(g^x,g^y) (as duas chaves públicas assinadas)\n",
    "\n",
    "#### Neste ponto, ambos geram a chave partilhada. De realçar que qualquer mensagem enviada que envolva assinaturas, é verificada na outra entidade antes do processo continuar."
   ]
  },
  {
   "cell_type": "markdown",
   "metadata": {},
   "source": [
    "#### Deste modo, comecemos com a criação dos parâmetros para as chaves do protocolo DH e as chaves para o protocolo DSA."
   ]
  },
  {
   "cell_type": "code",
   "execution_count": 2,
   "metadata": {},
   "outputs": [
    {
     "name": "stdout",
     "output_type": "stream",
     "text": [
      "Gerar os parâmetros para o DH.\n",
      "Parâmetros criados!\n",
      "\n",
      "Gerar os parâmetros para as assinaturas DSA.\n",
      "Parâmetros criados!\n"
     ]
    }
   ],
   "source": [
    "print('Gerar os parâmetros para o DH.')\n",
    "parameters_dh = dh.generate_parameters(generator=2, key_size=1024,backend=default_backend())\n",
    "print('Parâmetros criados!')\n",
    "print('')\n",
    "print('Gerar os parâmetros para as assinaturas DSA.')\n",
    "parameters_dsa = dsa.generate_parameters(key_size=1024,backend=default_backend())\n",
    "print('Parâmetros criados!')"
   ]
  },
  {
   "cell_type": "markdown",
   "metadata": {},
   "source": [
    "#### De seguida, apresentamos a implementação de todos os métodos necessários que involvam chaves DH."
   ]
  },
  {
   "cell_type": "code",
   "execution_count": 3,
   "metadata": {},
   "outputs": [],
   "source": [
    "class DiffieHellman:\n",
    "    def generate_DH_PrivateKey(self):\n",
    "        private_key = parameters_dh.generate_private_key()\n",
    "        return private_key\n",
    "    \n",
    "    def generate_DH_PublicKey(self, private_key):\n",
    "        public_key = private_key.public_key()\n",
    "        return public_key\n",
    "    \n",
    "    def generate_DH_PublicBytes(self, public_key):\n",
    "        return public_key.public_bytes(\n",
    "            encoding=serialization.Encoding.PEM,\n",
    "            format=serialization.PublicFormat.SubjectPublicKeyInfo)"
   ]
  },
  {
   "cell_type": "markdown",
   "metadata": {},
   "source": [
    "#### A implementação de todos os métodos necessários que involvem chaves DSA e assinaturas digitais."
   ]
  },
  {
   "cell_type": "code",
   "execution_count": 4,
   "metadata": {},
   "outputs": [],
   "source": [
    "class DSASignatures:\n",
    "    def generate_DSA_PrivateKey(self):\n",
    "        private_key = parameters_dsa.generate_private_key()\n",
    "        return private_key\n",
    "    \n",
    "    def generate_DSA_PublicKey(self,private_key):\n",
    "        public_key = private_key.public_key()\n",
    "        return public_key\n",
    "    \n",
    "    def generate_DSA_PublicBytes(self, public_key):\n",
    "        return public_key.public_bytes( \n",
    "            encoding=serialization.Encoding.PEM,\n",
    "            format=serialization.PublicFormat.SubjectPublicKeyInfo)\n",
    "    \n",
    "    def sign_message(self, message,own_private_key):\n",
    "        signature = own_private_key.sign(\n",
    "            message,\n",
    "            hashes.SHA256()\n",
    "        )\n",
    "        return signature\n",
    "    \n",
    "    def verify_Signature(self, message, signature, other_public_key):\n",
    "        other_public_key.verify(\n",
    "            signature,\n",
    "            message,\n",
    "            hashes.SHA256()\n",
    "        )"
   ]
  },
  {
   "cell_type": "markdown",
   "metadata": {},
   "source": [
    "#### Gerar as chaves privadas e públicas do Emitter e do Receiver. Nesta fase, foi optado tornar estas chaves como variáveis globais, de forma a evitar as trocas dessas chaves, uma vez que não achamos que seria esse o principal objetivo."
   ]
  },
  {
   "cell_type": "code",
   "execution_count": 5,
   "metadata": {},
   "outputs": [],
   "source": [
    "dsaSig = DSASignatures()\n",
    "\n",
    "emitter_dsa_privateKey = dsaSig.generate_DSA_PrivateKey()\n",
    "emitter_dsa_publicKey = dsaSig.generate_DSA_PublicKey(emitter_dsa_privateKey)\n",
    "\n",
    "receiver_dsa_privateKey = dsaSig.generate_DSA_PrivateKey()\n",
    "receiver_dsa_publicKey = dsaSig.generate_DSA_PublicKey(receiver_dsa_privateKey)"
   ]
  },
  {
   "cell_type": "markdown",
   "metadata": {},
   "source": [
    "#### Também, apresentamos métodos que serão comuns tanto para o Receiver como para o Emitter. Na comunicão entre os agentes foi implementeada a cifra simétrica AES, usando autenticação de cada criptograma com HMAC, na qual foi usado o modo CTR (counter) para ser seguro contra ataques aos 'nounces'."
   ]
  },
  {
   "cell_type": "code",
   "execution_count": 6,
   "metadata": {},
   "outputs": [],
   "source": [
    "class Encription:\n",
    "    def kdf(self, password, mySalt=None):\n",
    "        if mySalt is None:\n",
    "            auxSalt = os.urandom(16)\n",
    "        else:\n",
    "            auxSalt = mySalt\n",
    "        kdf = PBKDF2HMAC(\n",
    "            algorithm = hashes.SHA256(),   # SHA256\n",
    "            length=32,\n",
    "            salt=auxSalt,\n",
    "            iterations=100000,\n",
    "            backend=default_backend()        # openssl\n",
    "        )\n",
    "        key = kdf.derive(password)\n",
    "        if mySalt is None:\n",
    "            return auxSalt, key\n",
    "        else:\n",
    "            return key\n",
    "\n",
    "\n",
    "    # a função de Hash que calcula a hash de um dado input. resultado é o \"nounce\", construído em XOF (com SHA256)\n",
    "    def Hash(self, s):\n",
    "        digest = hashes.Hash(hashes.SHA256(),backend=default_backend())\n",
    "        digest.update(s)\n",
    "        return digest.finalize()\n",
    "    \n",
    "    def mac(self, key, msg, tag=None):\n",
    "        h = hmac.HMAC(key,hashes.SHA256(),default_backend())\n",
    "        h.update(msg)\n",
    "        if tag is None:\n",
    "            return h.finalize()\n",
    "        h.verify(tag)     \n",
    "\n",
    "    def encript(self, Ckey, Hkey, msg):\n",
    "        iv = os.urandom(16)\n",
    "        cipher = Cipher(algorithms.AES(Ckey), modes.CTR(iv), default_backend())\n",
    "        encryptor = cipher.encryptor()\n",
    "        ciphertext = encryptor.update(msg) + encryptor.finalize()\n",
    "        tag = self.mac(Hkey,ciphertext)\n",
    "        return iv, ciphertext, tag\n",
    "    \n",
    "    def decript(self, Ckey, iv, msg):\n",
    "            cipher = Cipher(algorithms.AES(Ckey), modes.CTR(iv), default_backend())\n",
    "            decryptor = cipher.decryptor()\n",
    "            cleant = decryptor.update(msg) + decryptor.finalize()\n",
    "            return cleant"
   ]
  },
  {
   "cell_type": "markdown",
   "metadata": {},
   "source": [
    "## <ins>Emitter</ins>: \n",
    "#### O Emitter é quem envia as mensagens ao Receiver. Apenas receberá mensagens do Receiver quando estiverem no protocolo Diffie-Hellman.\n",
    "#### Assim, este agente foi dividido em dois processos diferentes: um que trata do protocolo Diffie-Hellman e outro para enviar as mensagens.\n",
    "\n",
    "### <ins>Emitter_DH</ins>"
   ]
  },
  {
   "cell_type": "code",
   "execution_count": 7,
   "metadata": {},
   "outputs": [],
   "source": [
    "# método responsável por representar o Emitter na troca de chaves DiffieHellman.\n",
    "def Emitter_DH(conn):\n",
    "    diffieHellman = DiffieHellman()\n",
    "    dsaSign = DSASignatures()\n",
    "    print('Emitter_DH: Iniciar Processo de DiffieHellman')\n",
    "    \n",
    "    emitter_dh_privateKey = diffieHellman.generate_DH_PrivateKey() \n",
    "    #print('Emitter: Chave privada criada')\n",
    "    emitter_dh_publicKey = diffieHellman.generate_DH_PublicKey(emitter_dh_privateKey)\n",
    "    #print('Emitter: Chave pública criada')\n",
    "    print('Emitter_DH: Enviando a minha chave pública')\n",
    "    emitter_dh_public_bytes_key =diffieHellman.generate_DH_PublicBytes(emitter_dh_publicKey)\n",
    "    conn.send(emitter_dh_public_bytes_key)\n",
    "    \n",
    "    while True:\n",
    "        print('Emitter_DH: Esperando a chave pública do Receiver')\n",
    "        pubkey = conn.recv()\n",
    "        break\n",
    "    while True:\n",
    "        print('Emitter_DH: Esperando a assinatura da chave pública')\n",
    "        signature = conn.recv()\n",
    "        break\n",
    "    \n",
    "    try:\n",
    "        aux = emitter_dh_public_bytes_key + pubkey\n",
    "        dsaSign.verify_Signature(aux,signature,receiver_dsa_publicKey)\n",
    "        print('Emitter_DH: Assinatura válida!')\n",
    "        receiver_dh_public_key = pubkey\n",
    "        print('Emitter_DH: Já obtive a chave pública do Receiver')\n",
    "        sign = dsaSign.sign_message(aux,emitter_dsa_privateKey)\n",
    "        conn.send(sign)\n",
    "    except(InvalidSignature):\n",
    "        print('Emitter_DH: Assinatura não válida! Conexão fechada!')\n",
    "    \n",
    "    while True:\n",
    "        msg = conn.recv()\n",
    "        break\n",
    "    while True:\n",
    "        sig = conn.recv()\n",
    "        break\n",
    "    try:\n",
    "        dsaSign.verify_Signature(msg,sig,receiver_dsa_publicKey)\n",
    "        print('Emitter_DH: Assinatura válida!')\n",
    "    \n",
    "        emitter_dh_shared_key = emitter_dh_privateKey.exchange(serialization.load_pem_public_key(\n",
    "            receiver_dh_public_key,\n",
    "            backend = default_backend()))\n",
    "        print('Emitter_DH: Shared Key criada!')\n",
    "        return emitter_dh_shared_key\n",
    "    except(InvalidSignature):\n",
    "        print('Emitter_DH: Assinatura inválida! Conexão fechada!')"
   ]
  },
  {
   "cell_type": "markdown",
   "metadata": {},
   "source": [
    "## <ins>Receiver</ins>: \n",
    "#### O Receiver é responsável por receber as mensagens do Emitter, decifra-las e dar print. \n",
    "#### Assim, este também foi dividido em dois processos: um para a troca de chaves e outra para receber as mensagens.\n",
    "\n",
    "### <ins>Receiver_DH</ins>"
   ]
  },
  {
   "cell_type": "code",
   "execution_count": 8,
   "metadata": {},
   "outputs": [],
   "source": [
    "def Receiver_DH(conn):\n",
    "    diffieHellman = DiffieHellman()\n",
    "    dsaSigns = DSASignatures()\n",
    "    print('Receiver_DH: Iniciar Processo de DiffieHellman.')\n",
    "    \n",
    "    receiver_dh_privateKey = diffieHellman.generate_DH_PrivateKey()\n",
    "    #print('Receiver: Chave privada criada.')\n",
    "    receiver_dh_publicKey = diffieHellman.generate_DH_PublicKey(receiver_dh_privateKey)\n",
    "    #print('Receiver: Chave pública criada - - - ')\n",
    "    receiver_dh_public_bytes_key = diffieHellman.generate_DH_PublicBytes(receiver_dh_publicKey)\n",
    "    \n",
    "    #print('Receiver: Esperando chave pública do Emitter')\n",
    "    while True:\n",
    "        emitter_dh_public_key = conn.recv()\n",
    "        #print('Receiver: Já obtive a chave pública do Emitter')\n",
    "        #print(emitter_dh_public_key)\n",
    "        break;\n",
    "\n",
    "    publicKeys = emitter_dh_public_key + receiver_dh_public_bytes_key\n",
    "    sign = dsaSigns.sign_message(publicKeys, receiver_dsa_privateKey)\n",
    "    print('Receiver_DH: Enviando a minha chave pública')  \n",
    "    conn.send(receiver_dh_public_bytes_key)\n",
    "    conn.send(sign)\n",
    "    \n",
    "    while True:\n",
    "        ''' Esperando pela assinatura do emitter (último passo do Diffie-Hellman)'''\n",
    "        msg = conn.recv()\n",
    "        break;\n",
    "    \n",
    "    try:\n",
    "        dsaSigns.verify_Signature(publicKeys,msg,emitter_dsa_publicKey)\n",
    "        print('Receiver_DH: Assinatura válida!')\n",
    "        print('\\n\\n Acordo Realizado!\\n\\n')\n",
    "        msg = b'ACORDO REALIZADO!'\n",
    "        sig = dsaSigns.sign_message(msg,receiver_dsa_privateKey)\n",
    "        conn.send(msg)\n",
    "        conn.send(sig)\n",
    "    except:\n",
    "        print('Receiver DH: Assinatura inválida')\n",
    "    \n",
    "    receiver_dh_shared_key = receiver_dh_privateKey.exchange(serialization.load_pem_public_key(\n",
    "            emitter_dh_public_key,\n",
    "            backend=default_backend()))\n",
    "    print('Receiver_DH: Shared Key criada!')\n",
    "    return receiver_dh_shared_key"
   ]
  },
  {
   "cell_type": "markdown",
   "metadata": {},
   "source": [
    "#### Por fim, as implementações dos Emitter e Receiver\n",
    "\n",
    "### <ins>Emitter</ins>"
   ]
  },
  {
   "cell_type": "code",
   "execution_count": 9,
   "metadata": {},
   "outputs": [],
   "source": [
    "def Emitter(conn):\n",
    "    shared_key = Emitter_DH(conn)\n",
    "    # print('E: sharedKey- ' + str(shared_key))\n",
    "    time.sleep(2)\n",
    "    print('Emitter: Tenho o segredo partilhado.\\n\\n')\n",
    "    \n",
    "    encription = Encription()\n",
    "    dsaSig = DSASignatures()\n",
    "    \n",
    "    text1 = b'Mensagem 1'\n",
    "    text2 = b'Mensagem 2'\n",
    "    text3 = b'Mensagem 3'\n",
    "    text4 = b'Mensagem 4'\n",
    "    text5 = b'Mensagem 5'\n",
    "    text6 = b'Mensagem 6'\n",
    "    msgs=[text1,text2,text3,text4,text5,text6]\n",
    "    \n",
    "    i = 0\n",
    "    while(i < 6):\n",
    "        salt,key = encription.kdf(shared_key)\n",
    "        Ckey = key[0:16]\n",
    "        #print('E: Ckey- ' + str(Ckey))\n",
    "        Hkey = key[16:32]\n",
    "        #print('E: Hkey- ' + str(Hkey))\n",
    "        iv,cipher_text, tag = encription.encript(Ckey,Hkey, msgs[i])\n",
    "        sig = dsaSig.sign_message(cipher_text, emitter_dsa_privateKey)\n",
    "        conn.send(salt)\n",
    "        #print('E: SALT- ' + str(salt))\n",
    "        conn.send(iv)\n",
    "        #print('E: IV- ' + str(iv))\n",
    "        conn.send(cipher_text)\n",
    "        #print('E: MSG- ' + str(cipher_text))\n",
    "        conn.send(tag)\n",
    "        #print('E: TAG- ' + str(tag))\n",
    "        conn.send(sig)\n",
    "        #print('E: SIG- ' + str(sig))\n",
    "        time.sleep(2)\n",
    "        i+=1\n",
    "    print('Todas as mensagens enviadas!')"
   ]
  },
  {
   "cell_type": "markdown",
   "metadata": {},
   "source": [
    "### <ins>Receiver</ins>"
   ]
  },
  {
   "cell_type": "code",
   "execution_count": 10,
   "metadata": {},
   "outputs": [],
   "source": [
    "max_msg = 6\n",
    "def Receiver(conn):\n",
    "    sharedKey = Receiver_DH(conn)\n",
    "    #print('R: sharedKey- ' + str(sharedKey))\n",
    "    time.sleep(2)\n",
    "    print('Receiver: Tenho o segredo partilhado.\\n\\n')\n",
    "    encription = Encription()\n",
    "    dsaSig = DSASignatures()\n",
    "    i = 0\n",
    "    while (i < max_msg):\n",
    "        #Esperar 5 mensagem por cada criptograma. Um com o salt, outra com o iv, outra com a tag, outra com a assinatura e outra com a mensagem cifrada\n",
    "        while True: #salt\n",
    "            mySalt = conn.recv()\n",
    "            #print('R: SALT- '+ str(mySalt))\n",
    "            while True: #iv\n",
    "                iv = conn.recv()\n",
    "                #print('R: IV- '+str(iv))\n",
    "                while True: #mensagem\n",
    "                    msg = conn.recv()\n",
    "                    #print('R: MSG- '+ str(msg))\n",
    "                    while True: #tag\n",
    "                        tag = conn.recv()\n",
    "                        #print('R: TAG- ' + str(tag))\n",
    "                        while True: #sign\n",
    "                            sig = conn.recv()\n",
    "                           # print('R: SIG- ' + str(sig))\n",
    "                            break\n",
    "                        break\n",
    "                    break\n",
    "                break\n",
    "            break\n",
    "            \n",
    "        try:\n",
    "            dsaSig.verify_Signature(msg, sig, emitter_dsa_publicKey)\n",
    "            key = encription.kdf(sharedKey, mySalt)\n",
    "            Ckey = key[0:16]\n",
    "            Hkey = key[16:32]\n",
    "            #print('R: CKEY- ' + str(Ckey))\n",
    "            #print('R: HKEY- ' + str(Hkey))\n",
    "            try:\n",
    "                encription.mac(Hkey,msg,tag)\n",
    "                plaintext = encription.decript(Ckey, iv, msg)\n",
    "                print(plaintext)\n",
    "            except(InvalidSignature):\n",
    "                print('Tag inválida!')\n",
    "        except(InvalidSignature):\n",
    "            print('Assinatura inválida!')\n",
    "                \n",
    "        i += 1\n",
    "    \n",
    "    print('Todas as mensagens chegaram!')"
   ]
  },
  {
   "cell_type": "markdown",
   "metadata": {},
   "source": [
    "### Definição de uma função de teste"
   ]
  },
  {
   "cell_type": "code",
   "execution_count": 11,
   "metadata": {},
   "outputs": [
    {
     "name": "stdout",
     "output_type": "stream",
     "text": [
      "Emitter_DH: Iniciar Processo de DiffieHellman\n",
      "Emitter_DH: Enviando a minha chave públicaReceiver_DH: Iniciar Processo de DiffieHellman.\n",
      "\n",
      "Emitter_DH: Esperando a chave pública do Receiver\n",
      "Receiver_DH: Enviando a minha chave pública\n",
      "Emitter_DH: Esperando a assinatura da chave pública\n",
      "Emitter_DH: Assinatura válida!\n",
      "Emitter_DH: Já obtive a chave pública do Receiver\n",
      "Receiver_DH: Assinatura válida!\n",
      "\n",
      "\n",
      " Acordo Realizado!\n",
      "\n",
      "\n",
      "Emitter_DH: Assinatura válida!Receiver_DH: Shared Key criada!\n",
      "\n",
      "Emitter_DH: Shared Key criada!\n",
      "Receiver: Tenho o segredo partilhado.\n",
      "\n",
      "\n",
      "Emitter: Tenho o segredo partilhado.\n",
      "\n",
      "\n",
      "b'Mensagem 1'\n",
      "b'Mensagem 2'\n",
      "b'Mensagem 3'\n",
      "b'Mensagem 4'\n",
      "b'Mensagem 5'\n",
      "b'Mensagem 6'\n",
      "Todas as mensagens chegaram!\n",
      "Todas as mensagens enviadas!\n"
     ]
    }
   ],
   "source": [
    "def main():\n",
    "    PipeCommunication(Emitter,Receiver,timeout=600).run()\n",
    "\n",
    "\n",
    "multiprocessing.set_start_method(\"fork\") # \"Python 3.8 on MacOS by default now uses \"spawn\" instead of \"fork\" as start method for new processes\"\n",
    "if __name__ == \"__main__\":\n",
    "    main()"
   ]
  }
 ],
 "metadata": {
  "interpreter": {
   "hash": "bed19c560d7379436de8ac04867447dd2f5a10ecc4caf1d0c73ab15a7b0fe421"
  },
  "kernelspec": {
   "display_name": "Python 3.8.12 ('sage')",
   "language": "python",
   "name": "python3"
  },
  "language_info": {
   "codemirror_mode": {
    "name": "ipython",
    "version": 3
   },
   "file_extension": ".py",
   "mimetype": "text/x-python",
   "name": "python",
   "nbconvert_exporter": "python",
   "pygments_lexer": "ipython3",
   "version": "3.8.12"
  },
  "orig_nbformat": 4
 },
 "nbformat": 4,
 "nbformat_minor": 2
}
