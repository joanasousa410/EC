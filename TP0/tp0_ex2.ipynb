{
 "cells": [
  {
   "cell_type": "markdown",
   "metadata": {},
   "source": [
    "# Trabalho Prático 0\n",
    "#### Grupo 17, constituído por:\n",
    "#### &emsp; -- Joana Castro e Sousa, PG47282\n",
    "#### &emsp; -- Tiago Taveira Gomes, PG47702"
   ]
  },
  {
   "cell_type": "markdown",
   "metadata": {},
   "source": [
    "## <ins>Pergunta 2</ins>: \n",
    "### a) Criar um gerador pseudo-aleatório do tipo XOF (“extended output function”) usando o SHAKE256, para gerar uma sequência de palavras de 64 bits. \n",
    "##### &emsp; &emsp; i) O gerador deve poder gerar até um limite de 2^n palavras (n é  um parâmetro) armazenados em long integers do Python.\n",
    "##### &emsp; &emsp; ii) A “seed” do gerador funciona como cipher_key e é gerado por um KDF a partir de uma “password” .\n",
    "##### &emsp; &emsp; iii) A autenticação do criptograma e dos dados associados é feita usando o próprio SHAKE256."
   ]
  },
  {
   "cell_type": "code",
   "execution_count": 1,
   "metadata": {},
   "outputs": [],
   "source": [
    "# imports\n",
    "import os\n",
    "import time\n",
    "\n",
    "from cryptography.hazmat.primitives.kdf.pbkdf2 import PBKDF2HMAC\n",
    "from cryptography.hazmat.primitives import hashes, padding\n",
    "\n",
    "# N necessário para gerar as palavras\n",
    "N = 5\n",
    "BLOCK_SIZE = 8 # 64 bits = 8 bytes"
   ]
  },
  {
   "cell_type": "markdown",
   "metadata": {},
   "source": [
    "### Utilizar um KDF para gerar através de uma password"
   ]
  },
  {
   "cell_type": "code",
   "execution_count": 2,
   "metadata": {},
   "outputs": [],
   "source": [
    "def derivate_key(password, salt):\n",
    "    # derivar\n",
    "    kdf = PBKDF2HMAC(\n",
    "        algorithm=hashes.SHA256(),\n",
    "        length=32,\n",
    "        salt=salt,\n",
    "        iterations=100000,\n",
    "        )\n",
    "    key = kdf.derive(password)\n",
    "    return key"
   ]
  },
  {
   "cell_type": "markdown",
   "metadata": {},
   "source": [
    "### Desta maneira, é possível criar o PRG do tipo XOF usando o SHAKE256, para sequências de palavras de 64 bits"
   ]
  },
  {
   "cell_type": "code",
   "execution_count": 3,
   "metadata": {},
   "outputs": [],
   "source": [
    "def prg(seed):\n",
    "    digest = hashes.Hash(hashes.SHAKE256(BLOCK_SIZE * pow(2,N)))\n",
    "    digest.update(seed)\n",
    "    words = digest.finalize()\n",
    "    return words"
   ]
  },
  {
   "cell_type": "markdown",
   "metadata": {},
   "source": [
    "### b) Defina os algoritmos de cifrar e decifrar : para cifrar/decifrar uma mensagem com blocos de 64 bits, os “outputs” do gerador são usados como máscaras XOR dos blocos da mensagem. Essencialmente a cifra básica é uma implementação do  “One Time Pad”."
   ]
  },
  {
   "cell_type": "markdown",
   "metadata": {},
   "source": [
    "### Para cifrar, é necessário ter em atenção se é necessário efetuar um padding ou não"
   ]
  },
  {
   "cell_type": "code",
   "execution_count": 4,
   "metadata": {},
   "outputs": [],
   "source": [
    "def encode(key,message):\n",
    "    ct = b''\n",
    "    padder = padding.PKCS7(64).padder()\n",
    "    # Adiciona padding ao último bloco de bytes da mensagem de modo a esta ter tamanho múltiplo do bloco \n",
    "    padded = padder.update(message) + padder.finalize()\n",
    "    # Divide mensagem em blocos de 8 bytes\n",
    "    p = [padded[i:i+BLOCK_SIZE] for i in range(0, len(padded), BLOCK_SIZE)] \n",
    "    # XOR dos bytes do bloco da mensagem com os bytes do bloco de palavras chave\n",
    "    for x in range (len(p)): # Percorre blocos do texto limpo\n",
    "        for index, byte in enumerate(p[x]): # Percorre bytes do bloco do texto limpo\n",
    "            ct += bytes([byte ^ key[x:(x+1)*BLOCK_SIZE][index]]) \n",
    "    return ct"
   ]
  },
  {
   "cell_type": "markdown",
   "metadata": {},
   "source": [
    "### Já no caso de decifrar, é necessário dividir o texto por blocos de 64 bits e fazer \"unpadding\" quando necessário"
   ]
  },
  {
   "cell_type": "code",
   "execution_count": 5,
   "metadata": {},
   "outputs": [],
   "source": [
    "def decode(key, ct):\n",
    "    pt = b''\n",
    "    # Divide texto cifrado em blocos de 8 bytes\n",
    "    p = [ct[i:i+BLOCK_SIZE] for i in range(0, len(ct), BLOCK_SIZE)] \n",
    "    # XOR dos bytes do bloco do texto cifrado com os bytes do bloco de palavras chave\n",
    "    for x in range (len(p)): # Percorre blocos do texto cifrado\n",
    "        for index, byte in enumerate(p[x]): # Percorre bytes do bloco do texto cifrado\n",
    "            pt += bytes([byte ^ key[x:(x+1)*BLOCK_SIZE][index]]) \n",
    "    # Algoritmo para retirar padding para decifragem\n",
    "    unpadder = padding.PKCS7(64).unpadder()\n",
    "    # Retira bytes adicionados \n",
    "    unpadded = unpadder.update(pt) + unpadder.finalize()\n",
    "    return unpadded.decode(\"utf-8\")"
   ]
  },
  {
   "cell_type": "markdown",
   "metadata": {},
   "source": [
    "### Por fim, podemos finalmente testar a cifra implementada"
   ]
  },
  {
   "cell_type": "code",
   "execution_count": 6,
   "metadata": {},
   "outputs": [
    {
     "name": "stdout",
     "output_type": "stream",
     "text": [
      "Cypher_text: \n",
      "b'\\x08\\xdd2\\xe1;\\xd8\\xb2\\x9e'\n",
      "\n",
      "Texto limpo: \n",
      "Segredo\n"
     ]
    }
   ],
   "source": [
    "def main():\n",
    "    # a password que queremos ter partilhada\n",
    "    password = \"uma password\"\n",
    "    # a salt necessária para derivar a chave\n",
    "    salt = os.urandom(16)\n",
    "    # gerar a 'seed'\n",
    "    seed = derivate_key(password.encode(\"utf-8\"), salt)\n",
    "    # assim é possível gerar a chave com essa seed\n",
    "    key = prg(seed)\n",
    "    # e o cypher_text\n",
    "    ct = encode(key, \"Segredo\".encode(\"utf-8\"))\n",
    "    print(\"Cypher_text: \"); print(ct)\n",
    "    print(\"\")\n",
    "    print(\"Texto limpo: \"); print(decode(key, ct))\n",
    "\n",
    "if __name__ == \"__main__\":\n",
    "    main()"
   ]
  }
 ],
 "metadata": {
  "interpreter": {
   "hash": "bed19c560d7379436de8ac04867447dd2f5a10ecc4caf1d0c73ab15a7b0fe421"
  },
  "kernelspec": {
   "display_name": "Python 3.8.12 ('sage')",
   "language": "python",
   "name": "python3"
  },
  "language_info": {
   "codemirror_mode": {
    "name": "ipython",
    "version": 3
   },
   "file_extension": ".py",
   "mimetype": "text/x-python",
   "name": "python",
   "nbconvert_exporter": "python",
   "pygments_lexer": "ipython3",
   "version": "3.8.12"
  },
  "orig_nbformat": 4
 },
 "nbformat": 4,
 "nbformat_minor": 2
}
