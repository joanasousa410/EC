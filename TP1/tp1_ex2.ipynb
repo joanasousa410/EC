{
 "cells": [
  {
   "cell_type": "markdown",
   "metadata": {},
   "source": [
    "# Trabalho Prático 1\n",
    "#### Grupo 17, constituído por:\n",
    "#### &emsp; -- Joana Castro e Sousa, PG47282\n",
    "#### &emsp; -- Tiago Taveira Gomes, PG47702\n",
    "#### &emsp; -- João Carlos Pereira Rodrigues, PG46534"
   ]
  },
  {
   "cell_type": "markdown",
   "metadata": {},
   "source": [
    "## <ins>Pergunta 2</ins>: \n",
    "### Use o SageMath para:\n",
    "##### a) Construir uma classe Python que implemente um KEM- RSA. A classe deve\n",
    "##### &emsp; i.  Inicializar cada instância recebendo  o parâmetro de segurança (tamanho em bits do módulo RSA) e gere as chaves pública e privada.\n",
    "##### &emsp; ii. Conter funções para encapsulamento e revelação da chave gerada.\n",
    "##### b) Construir,  a partir deste KEM e usando a transformação de Fujisaki-Okamoto, um PKE que seja IND-CCA seguro."
   ]
  },
  {
   "cell_type": "markdown",
   "metadata": {},
   "source": [
    "# <b>IMPLEMENTAÇÃO<b>"
   ]
  },
  {
   "cell_type": "markdown",
   "metadata": {},
   "source": [
    "#### Para gerar uma chave pública e a chave privada, inicialmente é necessário gerar certos parâmetros:\n",
    "##### &emsp; i) dois números primos (\"q\" e \"p\"), de modo a que o módulo \"n\" tenha como tamanho de parâmetro segurança;\n",
    "##### &emsp; ii) um (\"phi\") para calcular o expoente da chave pública."
   ]
  },
  {
   "cell_type": "code",
   "execution_count": 25,
   "metadata": {},
   "outputs": [],
   "source": [
    "import os\n",
    "from cryptography.hazmat.primitives.kdf.pbkdf2 import PBKDF2HMAC\n",
    "from cryptography.hazmat.primitives import hashes\n",
    "\n",
    "# Secure hash FIPS 180\n",
    "def hash_sha256(seed):\n",
    "    digest = hashes.Hash(hashes.SHA256())\n",
    "    digest.update(seed)\n",
    "    digest.update(seed)\n",
    "    return digest.finalize()\n",
    "\n",
    "class KEM_RSA:\n",
    "    def __init__(self, param):\n",
    "        p = random_prime(2^(param/2) - 1, 2^(param/2-1))\n",
    "        q = random_prime(2^(param/2) - 1, 2^(param/2-1))\n",
    "        self.n = p * q\n",
    "        \n",
    "        # Função totiente de Euler\n",
    "        phi = (p - 1)*(q - 1)\n",
    "        \n",
    "        e = self.gen_e(phi)\n",
    "        d = self.gen_d(phi, e)\n",
    "\n",
    "        self.param = param\n",
    "\n",
    "        # Public Key: (n,e)\n",
    "        self.public_key = (self.n, e)\n",
    "        # Private Key: (n,d)\n",
    "        self.private_key = (self.n, d)"
   ]
  },
  {
   "cell_type": "markdown",
   "metadata": {},
   "source": [
    "#### Uma vez definidos os parâmetros, começa o trabalho de definir as chaves públicas e privadas. Assim, iremos definir duas funções que o façam:\n",
    "##### &emsp; i) <b> gen_e <b>: Escolhe uma chave pública (n, e) tal que, 0 < e < phi(n) & co-primo com n e phi(n)\n",
    "##### &emsp; ii) <b> gen_d <b>: Escolhe uma chave privada (n, d) tal que, d*e mod phi(n) = 1"
   ]
  },
  {
   "cell_type": "code",
   "execution_count": 26,
   "metadata": {},
   "outputs": [],
   "source": [
    "class KEM_RSA(KEM_RSA):\n",
    "    def gen_e(self, phi):\n",
    "        # 1 < e < phi \n",
    "        e = ZZ.random_element(phi)\n",
    "        # co-primo com phi e N\n",
    "        while gcd(e, phi) != 1:\n",
    "            e = ZZ.random_element(phi)\n",
    "        return e\n",
    "\n",
    "    def gen_d(self, phi, e):\n",
    "        # Inversa modular\n",
    "        d = inverse_mod(e, phi)\n",
    "        return d"
   ]
  },
  {
   "cell_type": "markdown",
   "metadata": {},
   "source": [
    "#### Neste momento, estamos capazes de implementar a técnica de KEM. Para tal, iremos apresentar dois algoritmos (\"encaps\": vocacionado para encapsular pequenas quantidades de informação (\"chaves\") que ele próprio gera; e \"decaps\": revela a chave a partir do encapsulamento desta).\n",
    "#### Assim, para o algoritmo de encapsulamento seguimos os seguintes passos:\n",
    "##### &emsp; i) gerar um valor inteiro aleatório (\"z\"), entre 0 e n-1;\n",
    "##### &emsp; ii) cifrar \"z\" com a chave pública RSA, obtendo-se o encapsulamento;\n",
    "##### &emsp; iii) derivar a chave simétrica (\"k\") através de um kdf, em que k = kdf(\"z\")"
   ]
  },
  {
   "cell_type": "code",
   "execution_count": 27,
   "metadata": {},
   "outputs": [],
   "source": [
    "class KEM_RSA(KEM_RSA):    \n",
    "    def encrypt_asym(self, pub_key, msg):\n",
    "        n, e = pub_key\n",
    "        return pow(msg, e, n) \n",
    "    \n",
    "    def decrypt_asym(self, priv_key, ct):\n",
    "        n, d = priv_key\n",
    "        return pow(ct, d, n) \n",
    "    \n",
    "    def encaps(self, pub_key):\n",
    "        n, ex = pub_key\n",
    "        # 1 < z < n\n",
    "        z = ZZ.random_element(n)\n",
    "        z_as_bytes = int(z).to_bytes(int(z).bit_length() + 7 // 8, 'big')\n",
    "        \n",
    "        salt = os.urandom(16)\n",
    "        key = self.kdf(z_as_bytes, salt)\n",
    "        \n",
    "        e = self.encrypt_asym(pub_key, z)\n",
    "        e_as_bytes = int(e).to_bytes(int(e).bit_length() + 7 // 8, 'big')\n",
    "\n",
    "        return key, e_as_bytes, salt\n",
    "    \n",
    "    def decaps(self, e, salt):\n",
    "        e_int = int.from_bytes(e, 'big')\n",
    "        \n",
    "        z = self.decrypt_asym(self.private_key, e_int)\n",
    "        z_as_bytes = int(z).to_bytes(int(z).bit_length() + 7 // 8, 'big')\n",
    "        \n",
    "        key = self.kdf(z_as_bytes, salt)\n",
    "        return key\n",
    "    \n",
    "    def kdf(self, password, salt):\n",
    "        kdf = PBKDF2HMAC(\n",
    "            algorithm=hashes.SHA256(),\n",
    "            length=32,\n",
    "            salt=salt,\n",
    "            iterations=100000,)\n",
    "        key = kdf.derive(password)\n",
    "        return key"
   ]
  },
  {
   "cell_type": "markdown",
   "metadata": {},
   "source": [
    "#### Verificação e teste dos algorimos:"
   ]
  },
  {
   "cell_type": "code",
   "execution_count": 28,
   "metadata": {},
   "outputs": [
    {
     "name": "stdout",
     "output_type": "stream",
     "text": [
      "Chave partilhada:  b'`\\x16\\xcbK\\xb1\\xfb\\x02r\\xba\\x9c\\xf6\\x89[\\x064\\x1a\\x9c5\\x10\\xfa\\xcc\\xa2\\xc8\\x94WC%d9\\xc2\\x95\\xe7'\n",
      "Chave partilhada:  b'`\\x16\\xcbK\\xb1\\xfb\\x02r\\xba\\x9c\\xf6\\x89[\\x064\\x1a\\x9c5\\x10\\xfa\\xcc\\xa2\\xc8\\x94WC%d9\\xc2\\x95\\xe7'\n"
     ]
    }
   ],
   "source": [
    "Bob_rsa = KEM_RSA(1024)\n",
    "Alice_rsa = KEM_RSA(1024)\n",
    "\n",
    "alice_pub_key = Alice_rsa.public_key\n",
    "\n",
    "k, e, salt = Bob_rsa.encaps(alice_pub_key)\n",
    "print(\"Chave partilhada: \", k)\n",
    "\n",
    "key  = Alice_rsa.decaps(e, salt)\n",
    "print(\"Chave partilhada: \",key)"
   ]
  },
  {
   "cell_type": "markdown",
   "metadata": {},
   "source": [
    "#### Uma vez resolvidos os algoritmos, o nosso próximo passo passar por transformar um KEM em um PKE-IND-CCA usando uma transformação de Fujisaki-Okamoto (FOT)"
   ]
  },
  {
   "cell_type": "code",
   "execution_count": 29,
   "metadata": {},
   "outputs": [],
   "source": [
    "class PKE_RSA:\n",
    "    def __init__(self, param, salt):\n",
    "        p = random_prime(2^(param/2) - 1, 2^(param/2-1))\n",
    "        q = random_prime(2^(param/2) - 1, 2^(param/2-1))\n",
    "        self.n = p * q\n",
    "        # Função totiente de Euler\n",
    "        phi = (p - 1)*(q - 1)\n",
    "        e = self.gen_e(phi)\n",
    "        d = self.gen_d(phi, e)\n",
    "        \n",
    "        self.param = param\n",
    "        \n",
    "        # Public Key: (n,e)\n",
    "        self.public_key = (self.n, e)\n",
    "        # Private Key: (n,d)\n",
    "        self.private_key = (self.n, d)\n",
    "        \n",
    "        self.salt = salt\n",
    "      \n",
    "    def gen_e(self, phi):\n",
    "        # 1 < e < phi \n",
    "        e = ZZ.random_element(phi)\n",
    "        # co-primo com phi e N\n",
    "        while gcd(e, phi) != 1:\n",
    "            e = ZZ.random_element(phi)\n",
    "        return e\n",
    "            \n",
    "    def gen_d(self, phi, e):\n",
    "        # Inversa modular\n",
    "        d = inverse_mod(e, phi)\n",
    "        return d\n",
    "    \n",
    "    def otp_enc(self, key, msg):\n",
    "        return bytes(a ^^ b for a, b in zip(msg, key))\n",
    "    \n",
    "    def otp_dec(self, key, ct):\n",
    "        return bytes(a ^^ b for a, b in zip(ct, key))\n",
    "    \n",
    "    def encrypt_sym(self, pub_key, msg):\n",
    "        k, e = self.encaps(pub_key)\n",
    "        ct = self.otp_enc(k, msg)\n",
    "        return e, ct\n",
    "    \n",
    "    def decrypt_sym(self, e, ct):\n",
    "        k = self.decaps(e)\n",
    "        pt = self.otp_dec(k, ct)\n",
    "        return pt\n",
    "    \n",
    "    def hash_g(self, msg):\n",
    "        h = hashes.Hash(hashes.SHA3_256())\n",
    "        h.update(msg)\n",
    "        digest = h.finalize()\n",
    "        return digest\n",
    "    \n",
    "    def encrypt_asym(self, pub_key, msg):\n",
    "        n, e = pub_key\n",
    "        return pow(msg, e, n) \n",
    "    \n",
    "    def decrypt_asym(self, priv_key, ct):\n",
    "        n, d = priv_key\n",
    "        return pow(ct, d, n) \n",
    "      \n",
    "    def decaps(self, e):\n",
    "        e_int = int.from_bytes(e, 'big')\n",
    "        m = self.decrypt_asym(self.private_key, e_int)\n",
    "        m_as_bytes = int(m).to_bytes((int(m).bit_length() + 7) // 8, 'big')\n",
    "        key = self.kdf(m_as_bytes, 32)\n",
    "        \n",
    "        return key\n",
    "    \n",
    "    def encrypt(self, pub_key, msg):\n",
    "        n, e = pub_key\n",
    "        \n",
    "        x = ZZ.random_element(n)\n",
    "        \n",
    "        # Gerar r\n",
    "        r = os.urandom(32)\n",
    "        r_as_bytes =  r\n",
    "        r_as_int = int.from_bytes(r_as_bytes,\"big\")\n",
    "        \n",
    "        msg_as_bytes = msg.encode('utf-8')\n",
    "        \n",
    "        # Obter y ofuscando o plaintext x\n",
    "        y = bytes(a ^^ b for a, b in zip( msg_as_bytes, self.kdf(r_as_bytes, len(msg_as_bytes))))\n",
    "        \n",
    "        # Obter yr\n",
    "        yr = y + r_as_bytes\n",
    "        yr_as_int = int.from_bytes(yr, \"big\") \n",
    "\n",
    "        # (e,k) <- KEM\n",
    "        k = self.kdf(yr,32)\n",
    "        e = self.encrypt_asym(pub_key, yr_as_int)\n",
    "        e_as_bytes = int(e).to_bytes((int(e).bit_length() + 7) // 8, 'big')\n",
    "\n",
    "        # Obter tag c ofuscando r com chave k\n",
    "        c = self.otp_enc(k, r_as_bytes)\n",
    "   \n",
    "        return y, e_as_bytes , c\n",
    "    \n",
    "    def decrypt(self, y, e, c):\n",
    "        k = self.decaps(e)\n",
    "\n",
    "        r = self.otp_dec(k, c)\n",
    "        r_as_int = int.from_bytes(r,\"big\")\n",
    "        yr = y + r\n",
    "        yr_as_int = int.from_bytes(yr, \"big\") \n",
    "        \n",
    "        ee = self.encrypt_asym(self.public_key, yr_as_int)\n",
    "        ee = int(ee).to_bytes((int(ee).bit_length() + 7) // 8, 'big')\n",
    "\n",
    "        kk = self.kdf(yr,32)\n",
    "\n",
    "        if ee != e or kk != kk:\n",
    "            return \"Error\"\n",
    "        else:\n",
    "            pt = bytes(a ^^ b for a, b in zip(y, self.kdf(r,len(y))))\n",
    "            return pt\n",
    "        \n",
    "    \n",
    "    def kdf(self, password, len):\n",
    "        kdf = PBKDF2HMAC(\n",
    "            algorithm=hashes.SHA256(),\n",
    "            length=len,\n",
    "            salt=self.salt,\n",
    "            iterations=100000,)\n",
    "        key = kdf.derive(password)\n",
    "        return key"
   ]
  },
  {
   "cell_type": "markdown",
   "metadata": {},
   "source": [
    "#### Finalizando, apenas nos resta testar esta implementação do PKE apresentada:"
   ]
  },
  {
   "cell_type": "code",
   "execution_count": 32,
   "metadata": {},
   "outputs": [
    {
     "name": "stdout",
     "output_type": "stream",
     "text": [
      "Uma mensagem para cifrar e decifrar em EC 2021/2022.\n",
      "Com participação da Alice e do Bob.\n",
      ":)\n"
     ]
    }
   ],
   "source": [
    "salt = os.urandom(16)\n",
    "\n",
    "msg = \"Uma mensagem para cifrar e decifrar em EC 2021/2022.\\nCom participação da Alice e do Bob.\\n:)\"\n",
    "msg_as_bytes = str.encode(msg)\n",
    "\n",
    "Bob_rsa = PKE_RSA(1024,salt)\n",
    "Alice_rsa = PKE_RSA(1024, salt)\n",
    "\n",
    "alice_pub_key = Alice_rsa.public_key\n",
    "\n",
    "y, e, c = Bob_rsa.encrypt(alice_pub_key, msg)\n",
    "\n",
    "\n",
    "pt  = Alice_rsa.decrypt(y, e, c)\n",
    "print(pt.decode())"
   ]
  }
 ],
 "metadata": {
  "interpreter": {
   "hash": "bed19c560d7379436de8ac04867447dd2f5a10ecc4caf1d0c73ab15a7b0fe421"
  },
  "kernelspec": {
   "display_name": "SageMath 9.5",
   "language": "python",
   "name": "python3"
  },
  "language_info": {
   "codemirror_mode": {
    "name": "ipython",
    "version": 3
   },
   "file_extension": ".py",
   "mimetype": "text/x-python",
   "name": "python",
   "nbconvert_exporter": "python",
   "pygments_lexer": "ipython3",
   "version": "3.8.12"
  }
 },
 "nbformat": 4,
 "nbformat_minor": 2
}
